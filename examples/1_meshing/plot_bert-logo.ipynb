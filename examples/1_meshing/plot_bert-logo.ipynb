{
  "cells": [
    {
      "cell_type": "code",
      "execution_count": null,
      "metadata": {
        "collapsed": false
      },
      "outputs": [],
      "source": [
        "# Checkout www.pygimli.org for more examples\n%matplotlib inline"
      ]
    },
    {
      "cell_type": "markdown",
      "metadata": {},
      "source": [
        "\nMeshing the Omega aka. BERT logo\n================================\n\nThis is a fun example creating a logo for the BERT software. It illustrates the\npossibility to hand over matplotlib path objects to the TriangleWrapper.\n"
      ]
    },
    {
      "cell_type": "code",
      "execution_count": null,
      "metadata": {
        "collapsed": false
      },
      "outputs": [],
      "source": [
        "import matplotlib as mpl\nimport matplotlib.pyplot as plt\n\nimport pygimli as pg"
      ]
    },
    {
      "cell_type": "markdown",
      "metadata": {},
      "source": [
        "We start by generating a matplotlib path respresenting the $\\Omega$\ncharacter.\n\n"
      ]
    },
    {
      "cell_type": "code",
      "execution_count": null,
      "metadata": {
        "collapsed": false
      },
      "outputs": [],
      "source": [
        "logo_path = mpl.textpath.TextPath((0, 0), r'$\\Omega$', size=5)\npatch = mpl.patches.PathPatch(logo_path)"
      ]
    },
    {
      "cell_type": "markdown",
      "metadata": {},
      "source": [
        "The vertices of the path are defined as mesh nodes and connected with edges.\n\n"
      ]
    },
    {
      "cell_type": "code",
      "execution_count": null,
      "metadata": {
        "collapsed": false
      },
      "outputs": [],
      "source": [
        "poly = pg.Mesh(2)\n\nfor n in patch.get_verts() * 10:\n    poly.createNodeWithCheck(n)\n\nfor i in range(poly.nodeCount() - 1):\n    poly.createEdge(poly.node(i), poly.node(i + 1))\n\npoly.createEdge(poly.node(poly.nodeCount() - 1), poly.node(0))"
      ]
    },
    {
      "cell_type": "markdown",
      "metadata": {},
      "source": [
        "We create mesh from the polygone and set the x values as the\ndata for a color transition.\n\n"
      ]
    },
    {
      "cell_type": "code",
      "execution_count": null,
      "metadata": {
        "collapsed": false
      },
      "outputs": [],
      "source": [
        "mesh = pg.meshtools.createMesh(poly, area=5)"
      ]
    },
    {
      "cell_type": "markdown",
      "metadata": {},
      "source": [
        "Last, we create a BERT caption, visualize the mesh and fine-tune the figure.\n\n"
      ]
    },
    {
      "cell_type": "code",
      "execution_count": null,
      "metadata": {
        "collapsed": false
      },
      "outputs": [],
      "source": [
        "fig, ax = plt.subplots(figsize=(4, 3))\nax.axis('off')\noffset = -10\nt = ax.text(mesh.xmin() + (mesh.xmax()-mesh.xmin())/2, offset, 'BERT',\n            horizontalalignment='center', size=40, fontweight='bold')\npg.show(mesh, pg.x(mesh.cellCenters()), ax=ax, cMap='Spectral_r',\n        logScale=False, showLater=True, showMesh=True, colorBar=False)\nax.set_ylim(offset, mesh.ymax())"
      ]
    }
  ],
  "metadata": {
    "kernelspec": {
      "display_name": "Python 3",
      "language": "python",
      "name": "python3"
    },
    "language_info": {
      "codemirror_mode": {
        "name": "ipython",
        "version": 3
      },
      "file_extension": ".py",
      "mimetype": "text/x-python",
      "name": "python",
      "nbconvert_exporter": "python",
      "pygments_lexer": "ipython3",
      "version": "3.7.3"
    }
  },
  "nbformat": 4,
  "nbformat_minor": 0
}