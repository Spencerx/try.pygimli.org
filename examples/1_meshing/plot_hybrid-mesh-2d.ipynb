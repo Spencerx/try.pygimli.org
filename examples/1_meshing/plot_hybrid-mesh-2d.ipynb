{
  "cells": [
    {
      "cell_type": "code",
      "execution_count": null,
      "metadata": {
        "collapsed": false
      },
      "outputs": [],
      "source": [
        "# Checkout www.pygimli.org for more examples\n%matplotlib inline"
      ]
    },
    {
      "cell_type": "markdown",
      "metadata": {},
      "source": [
        "\nBuilding a hybrid mesh in 2D\n----------------------------\n\nIn some cases, the modelling domain may require flexibility in one region and\nequidistant structure in another. In this short example, we demonstrate how to\naccomplish this for a two-dimensional mesh consisting of a region with regularly\nspaced quadrilaterals and a region with unstructured triangles.\n"
      ]
    },
    {
      "cell_type": "markdown",
      "metadata": {},
      "source": [
        "We start by importing numpy, matplotlib and pygimli with its required components.\n\n"
      ]
    },
    {
      "cell_type": "code",
      "execution_count": null,
      "metadata": {
        "collapsed": false
      },
      "outputs": [],
      "source": [
        "import numpy as np\n\nimport pygimli as pg\nfrom pygimli.meshtools import appendTriangleBoundary, merge2Meshes"
      ]
    },
    {
      "cell_type": "markdown",
      "metadata": {},
      "source": [
        "We continue by building a regular grid and assign the marker 2 to all cells.\n\n"
      ]
    },
    {
      "cell_type": "code",
      "execution_count": null,
      "metadata": {
        "collapsed": false
      },
      "outputs": [],
      "source": [
        "xmin, xmax = 0., 50.\nzmin, zmax = -50., -25.\n\ndx = 1.0\nxreg = np.arange(xmin, xmax + dx, dx, 'float')\nzreg = np.arange(zmin, zmax + dx, dx, 'float')\n\nmesh1 = pg.Mesh(2)\nmesh1.create2DGrid(xreg, zreg, 0)\nfor c in mesh1.cells():\n    c.setMarker(2)\n\nprint(mesh1)"
      ]
    },
    {
      "cell_type": "markdown",
      "metadata": {},
      "source": [
        "Next, we build an unstructured region on top by creating the polygon and\ncalling triangle via pygimli's TriangleWrapper.\n\n"
      ]
    },
    {
      "cell_type": "code",
      "execution_count": null,
      "metadata": {
        "collapsed": false
      },
      "outputs": [],
      "source": [
        "poly = pg.Mesh(2)  # empty 2d mesh\nnStart = poly.createNode(xmin, zmax, 0.0)\n\nnA = nStart\nfor x in xreg[1:]:\n    nB = poly.createNode(x, zmax, 0.0)\n    poly.createEdge(nA, nB)\n    nA = nB\n\nz2 = 0.\nnA = poly.createNode(xmax, z2, 0.0)\npoly.createEdge(nB, nA)\nnB = poly.createNode(xmin, z2, 0.0)\npoly.createEdge(nA, nB)\npoly.createEdge(nB, nStart)\n\ntri = pg.core.TriangleWrapper(poly)\ntri.setSwitches('-pzeAfaq31')"
      ]
    },
    {
      "cell_type": "markdown",
      "metadata": {},
      "source": [
        "For more information on the triangle switches and the corresponding settings,\nthe reader is referred to `the triangle website\n<http://www.cs.cmu.edu/~quake/triangle.switch.html>`_.\n\nNow we can generate the unstructured mesh.\n\n"
      ]
    },
    {
      "cell_type": "code",
      "execution_count": null,
      "metadata": {
        "collapsed": false
      },
      "outputs": [],
      "source": [
        "mesh2 = pg.Mesh(2)\ntri.generate(mesh2)\n\nfor cell in mesh2.cells():\n    cell.setMarker(1)"
      ]
    },
    {
      "cell_type": "markdown",
      "metadata": {},
      "source": [
        "Finally, the grid and the unstructured mesh can be merged to single mesh for\nfurther modelling.\n\n"
      ]
    },
    {
      "cell_type": "code",
      "execution_count": null,
      "metadata": {
        "collapsed": false
      },
      "outputs": [],
      "source": [
        "mesh3 = merge2Meshes(mesh1, mesh2)"
      ]
    },
    {
      "cell_type": "markdown",
      "metadata": {},
      "source": [
        "Of course, you can treat the hybrid mesh like any other mesh and append a\ntriangle boundary for example with the function\n:py:func:`pygimli.meshtools.grid.appendTriangleBoundary`.\n\n"
      ]
    },
    {
      "cell_type": "code",
      "execution_count": null,
      "metadata": {
        "collapsed": false
      },
      "outputs": [],
      "source": [
        "mesh = appendTriangleBoundary(mesh3, -100., 100., quality=31, smooth=True,\n                              marker=3, isSubSurface=True)\n\npg.show(mesh, markers=True, showMesh=True)\npg.wait()"
      ]
    }
  ],
  "metadata": {
    "kernelspec": {
      "display_name": "Python 3",
      "language": "python",
      "name": "python3"
    },
    "language_info": {
      "codemirror_mode": {
        "name": "ipython",
        "version": 3
      },
      "file_extension": ".py",
      "mimetype": "text/x-python",
      "name": "python",
      "nbconvert_exporter": "python",
      "pygments_lexer": "ipython3",
      "version": "3.7.3"
    }
  },
  "nbformat": 4,
  "nbformat_minor": 0
}