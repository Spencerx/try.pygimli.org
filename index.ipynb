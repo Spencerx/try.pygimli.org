{
 "cells": [
  {
   "cell_type": "markdown",
   "metadata": {},
   "source": [
    "<img align=\"right\" style=\"width:30%\" src=\"https://www.pygimli.org/_static/gimli_logo.svg\">\n",
    "\n",
    "# Welcome to try.pygimli.org\n",
    "\n",
    "On this page you can try out all tutorials and examples from the website (www.pygimli.org) live without a Python/pyGIMLi installation. Note that computing resources are limited. If you want to use pyGIMLi on your local machine, look at [the installation instructions](https://www.pygimli.org/installation.html).\n",
    "\n",
    "- [Tutorials](./tutorials) \n",
    "- [Examples](./examples)"
   ]
  }
 ],
 "metadata": {
  "kernelspec": {
   "display_name": "Python 3",
   "language": "python",
   "name": "python3"
  },
  "language_info": {
   "codemirror_mode": {
    "name": "ipython",
    "version": 3
   },
   "file_extension": ".py",
   "mimetype": "text/x-python",
   "name": "python",
   "nbconvert_exporter": "python",
   "pygments_lexer": "ipython3",
   "version": "3.8.2"
  }
 },
 "nbformat": 4,
 "nbformat_minor": 4
}
