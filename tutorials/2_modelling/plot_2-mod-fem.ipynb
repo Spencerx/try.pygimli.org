{
  "cells": [
    {
      "cell_type": "code",
      "execution_count": null,
      "metadata": {
        "collapsed": false
      },
      "outputs": [],
      "source": [
        "# Checkout www.pygimli.org for more examples\n%matplotlib inline"
      ]
    },
    {
      "cell_type": "markdown",
      "metadata": {},
      "source": [
        "\nBasics of Finite Element Analysis\n---------------------------------\n\nThis tutorial covers the first steps into Finite Element computation\nreferring the *M* (Modeling) in *pyGIMLi*.\n\nWe will not dig into deep details about the theory of the Finite Elements Analysis (FEA)\nhere, as this can be found in several books, e.g., :cite:`Zienkiewicz1977`.\n\nAnyhow, there is a little need for theory to understand what it means\nto use FEA for the solution of a boundary value problem.\nSo we start with some basics.\n\nAssuming Poisson's equation as a simple partial differential problem\nto be solved for the sought scalar field $u(\\mathbf{r})$ within\na modeling domain $\\mathbf{r}\\in\\Omega$\nwith a non zero right hand side function $f$.\n\n\\begin{align}- \\Delta u & = f \\quad{\\mathrm{in}}\\quad~\\Omega\\\\\n            u & = g \\quad{\\mathrm{on}}\\quad\\partial\\Omega\\;.\\end{align}\n\nThe Laplace operator $\\Delta = \\nabla\\cdot\\nabla$ given by the divergence\nof the gradient, is the sum of the second partial derivatives of the field\n$u(\\mathbf{r})$ with respect to the Cartesian coordinates\nin 1D space $\\mathbf{r} = (x)$, in 2D $\\mathbf{r} = (x, y)$, or 3D\nspace $\\mathbf{r} = (x, y, z)$.\nOn the boundary $\\partial\\Omega$ of the domain, we want\nknown values of $u=g$ as so called Dirichlet boundary conditions.\n\nA common approach to solve this problem is the method of weighted residuals.\nThe base assumption states that an approximated solution $u_h\\approx u$ will\nonly satisfy the differential equation with a rest $R$: $\\Delta u_h + f = R$. If we choose some weighting functions $w$,\nwe can try to minimize the resulting residuum over our modeling domain as:\n\n\\begin{align}\\int_{\\Omega} R w = 0\\;,\\end{align}\n\nwhich leads to:\n\n\\begin{align}\\int_{\\Omega} - \\Delta u_h w = \\int_{\\Omega} f w\\;.\\end{align}\n\nIt is preferable to eliminate the second derivative in the Laplace operator,\neither due to integration by parts or by applying the product rule and\nGauss's law.\nThis leads to the so called weak formulation:\n\n\\begin{align}\\int_{\\Omega} \\nabla u_h \\nabla w - \\int_{\\partial \\Omega}\\mathbf{n}\\nabla u_h w & = \\int_{\\Omega} f w \\\\\n    \\int_{\\Omega} \\nabla u_h \\nabla w & = \\int_{\\Omega} f w + \\int_{\\partial \\Omega}\\frac{\\partial u_h}{\\partial\\mathbf{n}} w\\;.\\end{align}\n\nWe can solve these integrals after choosing an appropriate basis\nfor an approximate solution $u_h$ as:\n\n\\begin{align}u_h = \\sum_i \\mathrm{u}_i N_i\\quad\\text{with}\\quad i = 0\\ldots\\mathcal{N}\\;.\\end{align}\n\nThe latter fundamental FEA relation discretizes the continuous solution $u_h$\ninto a discrete values $\\mathrm{u} = \\{\\mathrm{u}_i\\}$ for a number of $i = 0\\ldots\\mathcal{N}$ discrete points, usually called nodes.\n\nThe basis functions $N_i$ can be understood as interpolation rules for\nthe discrete solution between adjacent nodes and will be chosen later.\n\nNow we can set the unknown weighting functions to be the same as the basis\nfunctions $w=N_j$ with $j=0\\ldots\\mathcal{N}$ (Galerkin method)\n\n\\begin{align}\\int_{\\Omega} \\sum_i \\mathrm{u}_i \\nabla N_i \\nabla N_j\\\\ & = \\int_{\\Omega} f_j N_j + \\int_{\\partial \\Omega} h N_j\n    \\quad \\text{with}\\quad h\\\\ & = \\frac{\\partial u}{\\partial \\mathbf{n}}\\end{align}\n\nthis can be rewritten with $h=0$ as:\n\n\\begin{align}\\mathrm{A} \\mathrm{u} &= \\mathrm{b} \\\\\n    & \\text{with} \\\\\n    \\mathrm{A} & = \\{\\mathrm{a}_{i,j}\\} = \\int_{\\Omega}\\nabla N_i \\nabla N_j \\quad\\text{known as 'Stiffness matrix'}\\\\\n    \\mathrm{b} & = \\{\\mathrm{b}_j\\} = \\int_{\\Omega} f_j N_j \\quad\\text{known as 'Load vector'}\\end{align}\n\nThe solution of this linear system of equations leads to the\ndiscrete solution $\\mathrm{u} = \\{\\mathrm{u}_i\\}$ for all\n$i=1\\ldots\\mathcal{N}$ nodes inside the modeling domain.\n\nFor the practical part, the choice of the nodes is crucial. If we choose too\nlittle, the accuracy of the sought solution might be too small. If we choose too\nmany, the dimension of the system matrix will be too large, which leads to\nhigher memory consumption and calculation times.\n\nTo define the nodes, we discretize our modeling domain into cells, or the\neponymous elements. Cells are basic geometric shapes like triangles or\nhexahedrons and are constructed from the nodes and collected in a mesh. See the\ntutorials about the mesh basics (`tut:basics`). In summary, the discrete\nsolutions of the differential equation using FEA on a specific mesh are defined\non the node positions of the mesh.\n\nThe chosen mesh cells also define the base functions and the integration rules\nthat are necessary to assemble the stiffness matrix and the load vector and will\nbe discussed in a different tutorial (TOWRITE link here).\n\nTo finally solve our little example we still need to handle the application of\nthe boundary condition $u=g$ which is called Dirichlet condition. Setting\nexplicit values for our solution is not covered by the general Galerkin weighted\nresiduum method but we can solve it algebraically. We reduce the linear system\nof equations by the known solutions $g={g_k}$ for all $k$ nodes on\nthe affected boundary elements: (maybe move this to the BC tutorial)\n\n\\begin{align}\\mathrm{A_D}\\cdot\\mathrm{u} &= \\mathrm{b_D} \\\\\n    & \\text{with} \\\\\n    \\mathrm{A_D} & = \\{\\mathrm{a}_{i,j}\\}\\quad\\forall i, j ~\\notin~ k ~\\text{and}~1~\\text{for}~i,j \\in k\\\\\n    \\mathrm{b_D} & = \\{\\mathrm{b}_j\\} - \\mathrm{A}\\cdot\\mathrm{g}\\quad\\forall j \\notin k~\\text{and}~g_k~\\text{for}~j \\in k\\end{align}\n\nNow we have all parts together to assemble $\\mathrm{A_D}$ and\n$\\mathrm{b_D}$ and finally solve the given boundary value problem.\n\nIt is usually a good idea to test a numerical approach with known solutions.\nTo keep things simple we create a modeling problem from the reverse direction.\nWe choose a solution, calculate the right hand side function\nand select the domain geometry suitable for nice Dirichlet values.\n\n\\begin{align}u(x,y) & = \\operatorname{sin}(x)\\operatorname{sin}(y)\\\\\n    - \\Delta u & = f(x,y) = 2 \\operatorname{sin}(x)\\operatorname{sin}(y)\\\\\n    \\Omega \\in I\\!R^2 & \\quad \\text{on}\\quad 0 \\leq x \\leq 2\\pi,~~  0 \\leq y \\leq 2\\pi \\\\\n    u & = g = 0 \\quad \\text{on}\\quad \\partial \\Omega\\end{align}\n\nWe now can solve the Poison equation applying the FEA capabilities of pygimli\nand compare the resulting approximate solution $\\mathrm{u}$\nwith our known exact solution $u(x,y)$.\n"
      ]
    },
    {
      "cell_type": "code",
      "execution_count": null,
      "metadata": {
        "collapsed": false
      },
      "outputs": [],
      "source": [
        "import numpy as np\nimport pygimli as pg"
      ]
    },
    {
      "cell_type": "markdown",
      "metadata": {},
      "source": [
        "We start to define the modeling domain and functions for the exact solution\nand the values for the load vector.\nThe desired mesh of our domain will be a grid with equidistant spacing in\nx and y directions.\n\n\n"
      ]
    },
    {
      "cell_type": "code",
      "execution_count": null,
      "metadata": {
        "collapsed": false
      },
      "outputs": [],
      "source": [
        "domain = pg.createGrid(x=np.linspace(0.0, 2*np.pi, 25),\n                       y=np.linspace(0.0, 2*np.pi, 25))\n\nuExact = lambda pos: np.sin(pos[0]) * np.sin(pos[1])\nf = lambda cell: 2.0 * np.sin(cell.center()[0]) * np.sin(cell.center()[1])"
      ]
    },
    {
      "cell_type": "markdown",
      "metadata": {},
      "source": [
        "We use the existing shortcut functions for the assembling of the basic FEA\nsystem matrices and vectors.\nThe implemented parts of the solving process are supposed\nto be dimension independent. You only need to find a valid mesh with the\nsupported element types.\n\n\n"
      ]
    },
    {
      "cell_type": "code",
      "execution_count": null,
      "metadata": {
        "collapsed": false
      },
      "outputs": [],
      "source": [
        "A = pg.solver.createStiffnessMatrix(domain)\nb = pg.solver.createLoadVector(domain, f)"
      ]
    },
    {
      "cell_type": "markdown",
      "metadata": {},
      "source": [
        "To apply the boundary condition we first need to identify all boundary\nelements. The default grid applies the following boundary marker on the\noutermost boundaries: 1 (left), 2(right), 3(top), and 4(bottom).\n\n"
      ]
    },
    {
      "cell_type": "code",
      "execution_count": null,
      "metadata": {
        "collapsed": false
      },
      "outputs": [],
      "source": [
        "boundaries = pg.solver.parseArgToBoundaries({'1,2,3,4': 0.0}, domain)"
      ]
    },
    {
      "cell_type": "markdown",
      "metadata": {},
      "source": [
        "`parseArgToBoundaries` is a helper function to collect a list of\ntupels (Boundary element, value), which can be used to apply the Dirichlet\nconditions.\n\n\n"
      ]
    },
    {
      "cell_type": "code",
      "execution_count": null,
      "metadata": {
        "collapsed": false
      },
      "outputs": [],
      "source": [
        "pg.solver.assembleDirichletBC(A, boundaries, b)"
      ]
    },
    {
      "cell_type": "markdown",
      "metadata": {},
      "source": [
        "The approximate solution $\\mathrm{u}$ can then be found as the\nsolution of the linear system of equations.\n\n\n"
      ]
    },
    {
      "cell_type": "code",
      "execution_count": null,
      "metadata": {
        "collapsed": false
      },
      "outputs": [],
      "source": [
        "u = pg.solver.linSolve(A, b)"
      ]
    },
    {
      "cell_type": "markdown",
      "metadata": {},
      "source": [
        "The resulting scalar field can displayed with the `pg.show` shortcut.\n\n\n"
      ]
    },
    {
      "cell_type": "code",
      "execution_count": null,
      "metadata": {
        "collapsed": false
      },
      "outputs": [],
      "source": [
        "pg.show(domain, u, label='Approximated solution $\\mathrm{u}$', nLevs=7)"
      ]
    },
    {
      "cell_type": "markdown",
      "metadata": {},
      "source": [
        "For analyzing the accuracy for the approximation we apply the\nL2 norm for the finite element space :py:mod:`pygimli.solver.normL2` for a\nset of different solutions with decreasing cell size. Instead of using the\nthe single assembling steps again, we apply our Finite Element shortcut function\n:py:mod:`pygimli.solver.solve`.\n\n\n"
      ]
    },
    {
      "cell_type": "code",
      "execution_count": null,
      "metadata": {
        "collapsed": false
      },
      "outputs": [],
      "source": [
        "domain = pg.createGrid(x=np.linspace(0.0, 2*np.pi, 3),\n                       y=np.linspace(0.0, 2*np.pi, 3))\n\nh = []\nl2 = []\nfor i in range(5):\n    domain = domain.createH2()\n    u_h = pg.solve(domain, f=f, bc={'Dirichlet':{'1:5': 0}})\n    u = np.array([uExact(_) for _ in domain.positions()])\n    l2.append(pg.solver.normL2(u - u_h, domain))\n    h.append(min(domain.boundarySizes()))\n    print(\"NodeCount: {0}, h:{1}m, L2:{2}%\".format(domain.nodeCount(),\n                                                   h[-1], l2[-1]))\n\nax,_ = pg.show()\nax.loglog(h, l2, 'o-')\nax.set_ylabel('Approximation error: $L_2$ norm')\nax.set_xlabel('Cell size $h$ (m)')\nax.grid()"
      ]
    },
    {
      "cell_type": "markdown",
      "metadata": {},
      "source": [
        "We calculated the examples before for a homogeneous material parameter a=1,\nbut we can apply any heterogeneous values to0. One way is to create a list of\nparameter values, one for each cell of the domain. Currently the values for\neach cell can be of type float, complex, or real valued anisotropy or\nconstitutive matrix. For illustration we show a calculation with an\nanisotropic material. We simply use the same setting as above and assume a\n-45 degree dipping angle in the left and 45 degree dipping in the right part\nof the domain. Maybe we will find someday a more meaningful example. If you\nhave an idea please don't hesitate to share.\n\n\n"
      ]
    },
    {
      "cell_type": "code",
      "execution_count": null,
      "metadata": {
        "collapsed": false
      },
      "outputs": [],
      "source": [
        "a = [None]*domain.cellCount()\nfor c in domain.cells():\n    if c.center()[0] < np.pi:\n        a[c.id()] = pg.solver.anisotropyMatrix(lon=1.0, trans=10.0,\n                                               theta=-45/180 * np.pi)\n    else:\n        a[c.id()] = pg.solver.anisotropyMatrix(lon=1.0, trans=10.0,\n                                               theta=45/180 * np.pi)\n\nu = pg.solve(domain, a=a, f=f, bc={'Dirichlet':{'*': 0}})\npg.show(domain, u, label='Solution $\\mathrm{u}$ for anisotrop material parameter $a$', nLevs=7)"
      ]
    }
  ],
  "metadata": {
    "kernelspec": {
      "display_name": "Python 3",
      "language": "python",
      "name": "python3"
    },
    "language_info": {
      "codemirror_mode": {
        "name": "ipython",
        "version": 3
      },
      "file_extension": ".py",
      "mimetype": "text/x-python",
      "name": "python",
      "nbconvert_exporter": "python",
      "pygments_lexer": "ipython3",
      "version": "3.7.3"
    }
  },
  "nbformat": 4,
  "nbformat_minor": 0
}