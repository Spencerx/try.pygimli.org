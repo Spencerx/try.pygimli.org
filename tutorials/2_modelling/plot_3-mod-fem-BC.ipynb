{
  "cells": [
    {
      "cell_type": "code",
      "execution_count": null,
      "metadata": {
        "collapsed": false
      },
      "outputs": [],
      "source": [
        "# Checkout www.pygimli.org for more examples\n%matplotlib inline"
      ]
    },
    {
      "cell_type": "markdown",
      "metadata": {},
      "source": [
        "\n\nModelling with Boundary Conditions\n----------------------------------\n\nWe use the preceding example (Poisson equation on the unit square) but want to\nspecify different boundary conditions on the four sides.\n\nAgain, we first import numpy and pygimli, the solver and post processing\nfunctionality.\n"
      ]
    },
    {
      "cell_type": "code",
      "execution_count": null,
      "metadata": {
        "collapsed": false
      },
      "outputs": [],
      "source": [
        "import numpy as np\nimport pygimli as pg\n\nfrom pygimli.solver import solve\nfrom pygimli.viewer import show\nfrom pygimli.viewer.mpl import drawStreams"
      ]
    },
    {
      "cell_type": "markdown",
      "metadata": {},
      "source": [
        "We create 21 x 21 node grid to solve on.\n\n"
      ]
    },
    {
      "cell_type": "code",
      "execution_count": null,
      "metadata": {
        "collapsed": false
      },
      "outputs": [],
      "source": [
        "grid = pg.createGrid(x=np.linspace(-1.0, 1.0, 21),\n                     y=np.linspace(-1.0, 1.0, 21))"
      ]
    },
    {
      "cell_type": "markdown",
      "metadata": {},
      "source": [
        "We start considering inhomogeneous Dirichlet boundary conditions (BC).\n\nThere are different ways of specifying BCs. They can be maps from markers to\nvalues, explicit functions or implicit (lambda) functions.\n\nThe boundary 1 (top) and 2 (left) are directly mapped to the values 1 and 2.\nOn side 3 (bottom) a lambda function 3+x is used (p is the boundary position\nand p[0] its x coordinate. On side 4 (right) a function uDirichlet is used\nthat simply returns 4 in this example but can compute anything as a function\nof the individual boundaries b.\n\n"
      ]
    },
    {
      "cell_type": "code",
      "execution_count": null,
      "metadata": {
        "collapsed": false
      },
      "outputs": [],
      "source": [
        "def uDirichlet(boundary):\n    \"\"\"Return a solution value for a given boundary. Scalar values are applied to all nodes of the boundary.\"\"\"\n    return 4.0\n\ndirichletBC = {1: 1,                                           # left\n               2: 2.0,                                         # right\n               3: lambda boundary: 3.0 + boundary.center()[0], # top\n               4: uDirichlet}                                  # bottom"
      ]
    },
    {
      "cell_type": "markdown",
      "metadata": {},
      "source": [
        "The boundary conditions are passed using the bc keyword dictionary.\n\n"
      ]
    },
    {
      "cell_type": "code",
      "execution_count": null,
      "metadata": {
        "collapsed": false
      },
      "outputs": [],
      "source": [
        "u = solve(grid, f=1., bc={'Dirichlet': dirichletBC})\n\n# Note that showMesh returns the created figure ax and the created colorBar.\nax, cbar = show(grid, data=u, label='Solution $u$')\n\nshow(grid, ax=ax)\n\nax.text(0, 1.01, '$u=3+x$', ha='center')\nax.text(-1.01, 0, '$u=1$', va='center', ha='right', rotation='vertical')\nax.text(0, -1.01, '$u=4$', ha='center', va='top')\nax.text(1.02, 0, '$u=2$', va='center', ha='left',  rotation='vertical')\n\nax.set_title('$\\\\nabla\\cdot(1\\\\nabla u)=1$')\n\nax.set_xlim([-1.1, 1.1])  # some boundary for the text\nax.set_ylim([-1.1, 1.1])"
      ]
    },
    {
      "cell_type": "markdown",
      "metadata": {},
      "source": [
        "Alternatively we can define the gradients of the solution on the boundary,\ni.e., Neumann type BC. This is done with another dictionary {marker: value} and passed by the bc dictionary.\n\n"
      ]
    },
    {
      "cell_type": "code",
      "execution_count": null,
      "metadata": {
        "collapsed": false
      },
      "outputs": [],
      "source": [
        "neumannBC = {1: -0.5,  # left\n             4: 2.5}  # bottom\n\ndirichletBC = {3: 1.0}  # top\n\nu = solve(grid, f=0., bc={'Dirichlet': dirichletBC, 'Neumann': neumannBC})"
      ]
    },
    {
      "cell_type": "markdown",
      "metadata": {},
      "source": [
        "Note that on boundary 4 (right) no BC is explicitly applied leading to\ndefault (natural) BC that are of homogeneous Neumann type\n$\\frac{\\partial u}{\\partial n}=0$\n\n"
      ]
    },
    {
      "cell_type": "code",
      "execution_count": null,
      "metadata": {
        "collapsed": false
      },
      "outputs": [],
      "source": [
        "ax = show(grid, data=u, filled=True, orientation='vertical',\n          label='Solution $u$',\n          levels=np.linspace(min(u), max(u), 14), hold=True)[0]\n\n# Instead of the grid we now want to add streamlines to show the gradients of\n# the solution (i.e., the flow direction).\n\ndrawStreams(ax, grid, u)\n\nax.text(0.0, 1.01, '$u=1$',\n        horizontalalignment='center')  # top -- 3\nax.text(-1.0, 0.0, '$\\partial u/\\partial n=-0.5$',\n        va='center', ha='right', rotation='vertical')  # left -- 1\nax.text(0.0, -1.01, '$\\partial u/\\partial n=2.5$',\n        ha='center', va='top')  # bot -- 4\nax.text(1.01, 0.0, '$\\partial u/\\partial n=0$',\n        va='center', ha='left', rotation='vertical')  # right -- 2\n\nax.set_title('$\\\\nabla\\cdot(1\\\\nabla u)=0$')\n\nax.set_xlim([-1.1, 1.1])\nax.set_ylim([-1.1, 1.1])"
      ]
    },
    {
      "cell_type": "markdown",
      "metadata": {},
      "source": [
        "Its also possible to force single nodes to fixed values too:\nShort test: setting the value for the center node to 1.0\n\n"
      ]
    },
    {
      "cell_type": "code",
      "execution_count": null,
      "metadata": {
        "collapsed": false
      },
      "outputs": [],
      "source": [
        "u = solve(grid, f=1., bc={'Node': [grid.findNearestNode([0.0, 0.0]), 1.0]})\n\nax, _ = pg.show(grid, u, label='Solution $u$',)\nshow(grid, ax=ax)"
      ]
    }
  ],
  "metadata": {
    "kernelspec": {
      "display_name": "Python 3",
      "language": "python",
      "name": "python3"
    },
    "language_info": {
      "codemirror_mode": {
        "name": "ipython",
        "version": 3
      },
      "file_extension": ".py",
      "mimetype": "text/x-python",
      "name": "python",
      "nbconvert_exporter": "python",
      "pygments_lexer": "ipython3",
      "version": "3.7.3"
    }
  },
  "nbformat": 4,
  "nbformat_minor": 0
}