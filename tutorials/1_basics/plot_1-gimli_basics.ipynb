{
  "cells": [
    {
      "cell_type": "code",
      "execution_count": null,
      "metadata": {
        "collapsed": false
      },
      "outputs": [],
      "source": [
        "# Checkout www.pygimli.org for more examples\n%matplotlib inline"
      ]
    },
    {
      "cell_type": "markdown",
      "metadata": {},
      "source": [
        "\nGIMLi Basics\n============\n\nThis is the first tutorial where we demonstrate the general use of\n:term:`GIMLi` in Python, i.e., :term:`pyGIMLi`.\n\nThe modelling as well as the inversion part of :term:`GIMLi` often requires a\nspatial discretization for the domain of interest, the so called\n:gimliapi:`GIMLI::Mesh`.\nThis tutorial shows some basic aspects of handling a mesh.\n\nFirst, the library needs to be imported.\nTo avoid name clashes with other libraries we suggest to ``import pygimli`` and\nalias it to the simple abbreviation ``pg``: CR\n"
      ]
    },
    {
      "cell_type": "code",
      "execution_count": null,
      "metadata": {
        "collapsed": false
      },
      "outputs": [],
      "source": [
        "import pygimli as pg"
      ]
    },
    {
      "cell_type": "markdown",
      "metadata": {},
      "source": [
        "Every part of the c++ namespace :gimliapi:`GIMLI` is bound to python and can\nbe used with the leading ``pg.``\n\nFor instance get the current version for :term:`GIMLi` with:\n\n"
      ]
    },
    {
      "cell_type": "code",
      "execution_count": null,
      "metadata": {
        "collapsed": false
      },
      "outputs": [],
      "source": [
        "print(pg.__version__)"
      ]
    },
    {
      "cell_type": "markdown",
      "metadata": {},
      "source": [
        "This yields:\n\nNow we know the name space :gimliapi:`GIMLI` and can create a first mesh.\nA mesh is represented by a collection of nodes, cells and boundaries,\ni.e., geometrical entities.\n\n<div class=\"alert alert-info\"><h4>Note</h4><p>A regularly spaced mesh consisting of rectangles or hexahedrons is\n    usually called grid. However, a grid is just a special variant of a mesh\n    so GIMLi treat it the same. The only difference is how they are created.</p></div>\n\nGIMLi provides a collection of tools for mesh import, export and generation.\nA simple grid generation is built-in but we also provide wrappers for\nunstructured mesh generations, e.g., :term:`Triangle`, :term:`Tetgen` and\n:term:`Gmsh`. To create a 2d grid you need to give two arrays/lists for the\nsampling points in x and y direction, respectively, or just numbers.\n\n"
      ]
    },
    {
      "cell_type": "code",
      "execution_count": null,
      "metadata": {
        "collapsed": false
      },
      "outputs": [],
      "source": [
        "grid = pg.createGrid(x=[-1.0, 0.0, 1.0, 4.0], y=(-1.0, 0.0, 1.0, 4.0))"
      ]
    },
    {
      "cell_type": "markdown",
      "metadata": {},
      "source": [
        "The returned object ``grid`` is an instance of :gimliapi:`GIMLI::Mesh` and\nprovides various methods for modification and io-operations. General\ninformations can be simply printed.\n\n\n"
      ]
    },
    {
      "cell_type": "code",
      "execution_count": null,
      "metadata": {
        "collapsed": false
      },
      "outputs": [],
      "source": [
        "print(grid)"
      ]
    },
    {
      "cell_type": "markdown",
      "metadata": {},
      "source": [
        "yields:\n\nOr you can access them manually:\n\n\n"
      ]
    },
    {
      "cell_type": "code",
      "execution_count": null,
      "metadata": {
        "collapsed": false
      },
      "outputs": [],
      "source": [
        "print('Mesh: Nodes:', grid.nodeCount(),\n      'Cells:', grid.cellCount(),\n      'Boundaries:', grid.boundaryCount())"
      ]
    },
    {
      "cell_type": "markdown",
      "metadata": {},
      "source": [
        "You can iterate through all cells of the general type :gimliapi:`GIMLI::Cell`\nthat also provides a lot of methods. Here we list the number of nodes and the\nnode ids per cell:\n\n"
      ]
    },
    {
      "cell_type": "code",
      "execution_count": null,
      "metadata": {
        "collapsed": false
      },
      "outputs": [],
      "source": [
        "for cell in grid.cells():\n    print(\"Cell\", cell.id(), \"has\", cell.nodeCount(),\n          \"nodes. Node IDs:\", [n.id() for n in cell.nodes()])\n\nprint(type(grid.cell(0)))"
      ]
    },
    {
      "cell_type": "markdown",
      "metadata": {},
      "source": [
        "To find the grid generation input arrays ``x`` and ``y``, you can use the\nbuild-in :gimliapi:`GIMLI::Vector` (pre-defined with value type double as\n``pg.Vector``), standard python lists or :term:`numpy` arrays,\nwhich are widely compatible with :term:`GIMLi` vectors.\n\n"
      ]
    },
    {
      "cell_type": "code",
      "execution_count": null,
      "metadata": {
        "collapsed": false
      },
      "outputs": [],
      "source": [
        "import numpy as np\n\ngrid = pg.createGrid(x=np.linspace(-1.0, 1.0, 10),\n                     y=1.0 - np.logspace(np.log10(1.0), np.log10(2.0), 10))"
      ]
    },
    {
      "cell_type": "markdown",
      "metadata": {},
      "source": [
        "We can find that this new ``grid`` contains\n\n\n"
      ]
    },
    {
      "cell_type": "code",
      "execution_count": null,
      "metadata": {
        "collapsed": false
      },
      "outputs": [],
      "source": [
        "print(grid.cellCount())"
      ]
    },
    {
      "cell_type": "markdown",
      "metadata": {},
      "source": [
        "rectangles of type :gimliapi:`GIMLI::Quadrangle` being derived from the\nbase type :gimliapi:`GIMLI::Cell`,\n\n\n"
      ]
    },
    {
      "cell_type": "code",
      "execution_count": null,
      "metadata": {
        "collapsed": false
      },
      "outputs": [],
      "source": [
        "print(grid.boundaryCount())"
      ]
    },
    {
      "cell_type": "markdown",
      "metadata": {},
      "source": [
        "edges of type :gimliapi:`GIMLI::Edge`, which are boundaries of the general\ntype :gimliapi:`GIMLI::Boundary`.\n\nThe mesh can be saved and loaded in our binary mesh format ``.bms``.\nOr exported into ``.vtk`` format for 2D or 3D visualization using\n:term:`Paraview`.\n\nHowever, we recommend visualizing 2-dimensional content using python scripts\nthat provides better exports to graphics files (e.g., png, pdf, svg).\nIn :term:`pygimli` we provide some basic post-processing routines using\nthe :term:`matplotlib` visualization framework. The main visualization call\nis :py:mod:`pygimli.viewer.show` which is sufficient for the most meshs,\nfields, models and streamline views.\n\n"
      ]
    },
    {
      "cell_type": "code",
      "execution_count": null,
      "metadata": {
        "collapsed": false
      },
      "outputs": [],
      "source": [
        "pg.viewer.show(grid)\npg.wait()"
      ]
    },
    {
      "cell_type": "markdown",
      "metadata": {},
      "source": [
        "For more control you can also use the appropriate draw methods\n:py:mod:`pygimli.viewer.mpl.drawMesh`.\n\n"
      ]
    }
  ],
  "metadata": {
    "kernelspec": {
      "display_name": "Python 3",
      "language": "python",
      "name": "python3"
    },
    "language_info": {
      "codemirror_mode": {
        "name": "ipython",
        "version": 3
      },
      "file_extension": ".py",
      "mimetype": "text/x-python",
      "name": "python",
      "nbconvert_exporter": "python",
      "pygments_lexer": "ipython3",
      "version": "3.7.3"
    }
  },
  "nbformat": 4,
  "nbformat_minor": 0
}