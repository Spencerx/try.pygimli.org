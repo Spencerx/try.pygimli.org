{
  "cells": [
    {
      "cell_type": "code",
      "execution_count": null,
      "metadata": {
        "collapsed": false
      },
      "outputs": [],
      "source": [
        "# Checkout www.pygimli.org for more examples\n%matplotlib inline"
      ]
    },
    {
      "cell_type": "markdown",
      "metadata": {},
      "source": [
        "\nQuality of unstructured meshes\n==============================\n\n**Problem:**\n\n    Accurate numerical solutions require high quality meshes. In the case of\n    unstructured triangular meshes (or tetrahedral meshes in 3D), relatively\n    large and small angles can lead to discretization errors. Large angles can\n    cause interpolation errors, while small angles can lead to ill-conditioned\n    stiffness matrices.\n\n**Identification:**\n\n    Some common 2D quality measures are\n    implemented in :mod:`pygimli.meshtools` and will be used in this tutorial.\n    In 3D, we recommend to export the mesh in VTK format and inspect mesh\n    quality with ParaView (Filters -> Alphapetical -> Mesh quality).\n\n**Solution:**\n\n    Meshes can be improved by adjusting cell sizes (`area` keyword) and the\n    minimum allowed angle (`quality` keyword). :term:`Gmsh` and other more\n    advanced meshing tools also provide powerful mesh optimization algorithms.\n    However, the numerical accurary may be improved at the expense of increased\n    cell counts and thus longer computation times.\n"
      ]
    },
    {
      "cell_type": "code",
      "execution_count": null,
      "metadata": {
        "collapsed": false
      },
      "outputs": [],
      "source": [
        "import matplotlib.pyplot as plt\nimport numpy as np\n\nimport pygimli as pg\nfrom pygimli.meshtools import polytools as plc\nfrom pygimli.meshtools import quality"
      ]
    },
    {
      "cell_type": "markdown",
      "metadata": {},
      "source": [
        "We start by creating a mesh with a refined object inside.\n\n"
      ]
    },
    {
      "cell_type": "code",
      "execution_count": null,
      "metadata": {
        "collapsed": false
      },
      "outputs": [],
      "source": [
        "world = plc.createWorld(start=[-10, 0], end=[10, -10], marker=1,\n                        worldMarker=False)\nc1 = plc.createCircle(pos=[0.0, -5.0], radius=3.0, area=.3)"
      ]
    },
    {
      "cell_type": "markdown",
      "metadata": {},
      "source": [
        "When calling the :func:`pg.meshtools.createMesh` function, a quality parameter\ncan be forwarded to Triangle, which prescribes the minimum angle allowed in\nthe final mesh. We can asses its effectiveness by creating different meshes\nand plotting the resulting quality. For this purpose, we define a showQuality\nfunction, which also plots a histogram of the mesh qualities.\n\n"
      ]
    },
    {
      "cell_type": "code",
      "execution_count": null,
      "metadata": {
        "collapsed": false
      },
      "outputs": [],
      "source": [
        "def showQuality(mesh, qualities):\n    fig, axes = plt.subplots(1, 2)\n    axes[1].hist(qualities, color=\"grey\")\n    pg.show(mesh, qualities, ax=axes[0], cMin=0.5, cMax=1, hold=True,\n            logScale=False, label=\"Mesh quality\", cmap=\"RdYlGn\", showMesh=True)\n    s = \"Min: %.2f, Mean: %.2f, Max: %.2f\" % (\n        np.min(qualities), np.mean(qualities), np.max(qualities))\n    axes[1].set_title(s)\n    axes[1].set_xlabel(\"Mesh quality\")\n    axes[1].set_ylabel(\"Frequency\")\n    axes[1].set_xlim(0, 1)\n\n    # Figure resizing according to mesh dimesions\n    x = mesh.xmax() - mesh.xmin()\n    y = mesh.ymax() - mesh.ymin()\n    width, height = fig.get_size_inches()\n    fig.set_figheight(height * 1.3 * (y / x))\n    fig.tight_layout()\n\n\nfor q in 10, 20, 30:\n    m = pg.meshtools.createMesh([world, c1], quality=q)\n    showQuality(m, quality(m))"
      ]
    },
    {
      "cell_type": "markdown",
      "metadata": {},
      "source": [
        "Note that there is a decreasing number of problematic triangles (marked in\nred). However, the number of cells is increased siginficantly to achieve this.\n\n"
      ]
    },
    {
      "cell_type": "markdown",
      "metadata": {},
      "source": [
        "Quality measures\n----------------\n\nThere are numerous measures related to the area/volume, boundary lengths and\nangles of a cell (see [#f1]_ for a review). A straightforward measure\nconsiders the minimum angle in a triangle (normalized by 60 degrees). More\nsophisticated measures also take into account the cell size. A very common\nmeasure, often referred to as $\\eta$, relates the area of a triangle\n$a$ to its edge lengths $l_1,l_2,l_3$.\n\n\\begin{align}\\eta = \\frac{4\\sqrt{3}a}{l_1^2 + l_2^2 + l_3^2}\\end{align}\n\nThe normalization factor $4\\sqrt{3}$ ensures that a perfect triangle\n(equal edges) has a quality of 1. A popular measure also applicable for other\ncell types is the *Normalized shape ratio (NSR)*, which relates the\ncircumradius $R$ to the inradius of cell ($r$).\n\n\\begin{align}\\rho = \\frac{2r}{R}\\end{align}\n\nAgain the factor 2 (3 in 3D) ensures that a perfect triangle has a quality of\n1, whereas a flat triangle would have a quality of 0. The above mentioned\nquality measures are plotted below for the same mesh.\n\n"
      ]
    },
    {
      "cell_type": "code",
      "execution_count": null,
      "metadata": {
        "collapsed": false
      },
      "outputs": [],
      "source": [
        "world = plc.createWorld(start=[-5, 0], end=[5, -5], marker=1,\n                        worldMarker=False, area=2.)\nc1 = plc.createCircle(pos=[0.0, -2.0], radius=1.0, area=.3)\nmesh = pg.meshtools.createMesh([world, c1])\n\nfor measure in \"minimumAngle\", \"eta\", \"nsr\":\n    showQuality(mesh, quality(mesh, measure))\n    plt.title(measure)\n\nplt.show()"
      ]
    },
    {
      "cell_type": "markdown",
      "metadata": {},
      "source": [
        "**References:**\n\n.. [#f1] Field, D. A. (2000), Qualitative measures for initial meshes. Int. J.\n   Numer. Meth. Engng., 47: 887\u2013906.\n\n"
      ]
    }
  ],
  "metadata": {
    "kernelspec": {
      "display_name": "Python 3",
      "language": "python",
      "name": "python3"
    },
    "language_info": {
      "codemirror_mode": {
        "name": "ipython",
        "version": 3
      },
      "file_extension": ".py",
      "mimetype": "text/x-python",
      "name": "python",
      "nbconvert_exporter": "python",
      "pygments_lexer": "ipython3",
      "version": "3.7.3"
    }
  },
  "nbformat": 4,
  "nbformat_minor": 0
}