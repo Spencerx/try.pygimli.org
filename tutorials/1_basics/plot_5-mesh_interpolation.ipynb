{
  "cells": [
    {
      "cell_type": "code",
      "execution_count": null,
      "metadata": {
        "collapsed": false
      },
      "outputs": [],
      "source": [
        "# Checkout www.pygimli.org for more examples\n%matplotlib inline"
      ]
    },
    {
      "cell_type": "markdown",
      "metadata": {},
      "source": [
        "\nMesh interpolation\n==================\n\nIn this tutorial, we look at the mesh interpolation options in GIMLi. Although\nthe example shown here is in 2D, the same routines can be applied when\nconverting 3D data to a 2D mesh for instance.\n"
      ]
    },
    {
      "cell_type": "code",
      "execution_count": null,
      "metadata": {
        "collapsed": false
      },
      "outputs": [],
      "source": [
        "import numpy as np\nimport matplotlib.pyplot as plt\n\nimport pygimli as pg\nfrom pygimli.viewer.mpl import drawMesh, drawModel"
      ]
    },
    {
      "cell_type": "markdown",
      "metadata": {},
      "source": [
        "Create coarse and fine mesh with data\n-------------------------------------\n\n"
      ]
    },
    {
      "cell_type": "code",
      "execution_count": null,
      "metadata": {
        "collapsed": false
      },
      "outputs": [],
      "source": [
        "def create_mesh_and_data(n):\n    nc = np.linspace(-2.0, 0.0, n)\n    mesh = pg.meshtools.createMesh2D(nc, nc)\n    mcx = pg.x(mesh.cellCenter())\n    mcy = pg.y(mesh.cellCenter())\n    data = np.cos(1.5 * mcx) * np.sin(1.5 * mcy)\n    return mesh, data\n\ncoarse, coarse_data = create_mesh_and_data(5)\nfine, fine_data = create_mesh_and_data(20)"
      ]
    },
    {
      "cell_type": "markdown",
      "metadata": {},
      "source": [
        "Interpolate data to different meshes\n------------------------------------\n\nWe define two functions taking the input mesh, the input data and the output\nmesh as parameters and return the input data interpolated to the output mesh.\n\n"
      ]
    },
    {
      "cell_type": "code",
      "execution_count": null,
      "metadata": {
        "collapsed": false
      },
      "outputs": [],
      "source": [
        "def nearest_neighbor_interpolation(inmesh, indata, outmesh, nan=99.9):\n    \"\"\" Nearest neighbor interpolation. \"\"\"\n    outdata = []\n    for pos in outmesh.cellCenters():\n        cell = inmesh.findCell(pos)\n        if cell:\n            outdata.append(indata[cell.id()])\n        else:\n            outdata.append(nan)\n    return outdata\n\n\ndef linear_interpolation(inmesh, indata, outmesh):\n    \"\"\" Linear interpolation using `pg.interpolate()` \"\"\"\n    outdata = pg.Vector()  # empty\n    pg.interpolate(srcMesh=inmesh, inVec=indata,\n                   destPos=outmesh.cellCenters(), outVec=outdata)\n\n    # alternatively you can use the interpolation matrix\n    outdata = inmesh.interpolationMatrix(outmesh.cellCenters()) * \\\n              pg.core.cellDataToPointData(inmesh, indata)\n    return outdata"
      ]
    },
    {
      "cell_type": "markdown",
      "metadata": {},
      "source": [
        "Visualization\n-------------\n\n"
      ]
    },
    {
      "cell_type": "code",
      "execution_count": null,
      "metadata": {
        "collapsed": false
      },
      "outputs": [],
      "source": [
        "meshes = [coarse, fine]\ndatasets = [coarse_data, fine_data]\nints = [nearest_neighbor_interpolation,\n        linear_interpolation]\n\nfig, ax = plt.subplots(2, 2, figsize=(5, 5))\n\n# Coarse data to fine mesh\ndrawModel(ax[0, 0], fine, ints[0](coarse, coarse_data, fine), showCbar=False)\ndrawMesh(ax[0, 0], fine)\ndrawModel(ax[0, 1], fine, ints[1](coarse, coarse_data, fine), showCbar=False)\ndrawMesh(ax[0, 1], fine)\n\n# Fine data to coarse mesh\ndrawModel(ax[1, 0], coarse, ints[0](fine, fine_data, coarse), showCbar=False)\ndrawMesh(ax[1, 0], coarse)\ndrawModel(ax[1, 1], coarse, ints[1](fine, fine_data, coarse), showCbar=False)\ndrawMesh(ax[1, 1], coarse)\n\ntitles = [\"Coarse to fine\\nwith nearest neighbors\",\n          \"Coarse to fine\\nwith linear interpolation\",\n          \"Fine to coarse\\nwith nearest neighbors\",\n          \"Fine to coarse\\nwith linear interpolation\"]\n\nfor a, title in zip(ax.flat, titles):\n    a.set_title(title + \"\\n\")\n\nfig.tight_layout()\nplt.show()"
      ]
    }
  ],
  "metadata": {
    "kernelspec": {
      "display_name": "Python 3",
      "language": "python",
      "name": "python3"
    },
    "language_info": {
      "codemirror_mode": {
        "name": "ipython",
        "version": 3
      },
      "file_extension": ".py",
      "mimetype": "text/x-python",
      "name": "python",
      "nbconvert_exporter": "python",
      "pygments_lexer": "ipython3",
      "version": "3.7.3"
    }
  },
  "nbformat": 4,
  "nbformat_minor": 0
}